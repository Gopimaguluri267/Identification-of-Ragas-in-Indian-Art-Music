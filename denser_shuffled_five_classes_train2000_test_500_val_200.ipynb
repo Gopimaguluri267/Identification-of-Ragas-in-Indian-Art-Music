{
 "cells": [
  {
   "cell_type": "code",
   "execution_count": 2,
   "metadata": {},
   "outputs": [],
   "source": [
    "import numpy as np\n",
    "import tensorflow\n",
    "from keras.models import Sequential\n",
    "from keras.layers import Conv2D, MaxPool2D, Flatten, Dense, InputLayer, BatchNormalization, Dropout, GlobalAveragePooling2D\n",
    "from keras.callbacks import ModelCheckpoint"
   ]
  },
  {
   "cell_type": "code",
   "execution_count": 3,
   "metadata": {},
   "outputs": [],
   "source": [
    "train_1=np.load('train_5class_1800.npy', allow_pickle=True, encoding='bytes')"
   ]
  },
  {
   "cell_type": "code",
   "execution_count": 4,
   "metadata": {},
   "outputs": [],
   "source": [
    "train_ext=np.load('train_extra_added_200.npy', allow_pickle=True, encoding='bytes')"
   ]
  },
  {
   "cell_type": "code",
   "execution_count": 5,
   "metadata": {},
   "outputs": [],
   "source": [
    "train=np.concatenate((train_1, train_ext), axis=0)"
   ]
  },
  {
   "cell_type": "code",
   "execution_count": 6,
   "metadata": {},
   "outputs": [],
   "source": [
    "val=np.load('val_5class_200.npy', allow_pickle=True, encoding='bytes')"
   ]
  },
  {
   "cell_type": "code",
   "execution_count": 7,
   "metadata": {},
   "outputs": [],
   "source": [
    "test=np.load('test_5class_500.npy', allow_pickle=True, encoding='bytes')"
   ]
  },
  {
   "cell_type": "code",
   "execution_count": 8,
   "metadata": {},
   "outputs": [],
   "source": [
    "np.random.shuffle(train)"
   ]
  },
  {
   "cell_type": "code",
   "execution_count": 9,
   "metadata": {},
   "outputs": [],
   "source": [
    "np.random.shuffle(test)"
   ]
  },
  {
   "cell_type": "code",
   "execution_count": 10,
   "metadata": {},
   "outputs": [],
   "source": [
    "np.random.shuffle(val)"
   ]
  },
  {
   "cell_type": "code",
   "execution_count": 11,
   "metadata": {},
   "outputs": [],
   "source": [
    "# preprocessing train data\n",
    "\n",
    "n=len(train)\n",
    "x_train = train[:, :-1]\n",
    "y_train = train[:, -1]\n",
    "\n",
    "g = []\n",
    "for i in range(n):\n",
    "    a=x_train[i][0]\n",
    "    g.append(a)\n",
    "    \n",
    "train_x = np.array(g)"
   ]
  },
  {
   "cell_type": "code",
   "execution_count": 12,
   "metadata": {},
   "outputs": [],
   "source": [
    "#preprocessing test data\n",
    "\n",
    "m=len(test)\n",
    "x_test = test[:, :-1]\n",
    "y_test = test[:, -1]\n",
    "\n",
    "h=[]\n",
    "for i in range(m):\n",
    "    b=x_test[i][0]\n",
    "    h.append(b)\n",
    "    \n",
    "test_x = np.array(h)\n"
   ]
  },
  {
   "cell_type": "code",
   "execution_count": 13,
   "metadata": {},
   "outputs": [],
   "source": [
    "# preprocessing validation data\n",
    "\n",
    "o=len(val)\n",
    "x_val = val[:, :-1]\n",
    "y_val = val[:, -1]\n",
    "\n",
    "k=[]\n",
    "for i in range(o):\n",
    "    c=x_val[i][0]\n",
    "    k.append(c)\n",
    "    \n",
    "val_x = np.array(k)"
   ]
  },
  {
   "cell_type": "code",
   "execution_count": 14,
   "metadata": {},
   "outputs": [],
   "source": [
    "import category_encoders as ce\n",
    "enc = ce.OneHotEncoder(y_train, handle_unknown='return_nan', return_df=True, use_cat_names=True)"
   ]
  },
  {
   "cell_type": "code",
   "execution_count": 15,
   "metadata": {},
   "outputs": [],
   "source": [
    "y_train = enc.fit_transform(y_train)"
   ]
  },
  {
   "cell_type": "code",
   "execution_count": 16,
   "metadata": {},
   "outputs": [],
   "source": [
    "y_test = enc.transform(y_test)"
   ]
  },
  {
   "cell_type": "code",
   "execution_count": 17,
   "metadata": {},
   "outputs": [],
   "source": [
    "y_val = enc.transform(y_val)"
   ]
  },
  {
   "cell_type": "code",
   "execution_count": 18,
   "metadata": {},
   "outputs": [
    {
     "data": {
      "text/plain": [
       "(2000, 432, 504, 3)"
      ]
     },
     "execution_count": 18,
     "metadata": {},
     "output_type": "execute_result"
    }
   ],
   "source": [
    "train_x.shape"
   ]
  },
  {
   "cell_type": "code",
   "execution_count": null,
   "metadata": {},
   "outputs": [],
   "source": []
  },
  {
   "cell_type": "code",
   "execution_count": 22,
   "metadata": {},
   "outputs": [],
   "source": [
    "cnn = Sequential()\n",
    "\n",
    "cnn.add(Conv2D(32, kernel_size=(3,3), strides=(1,1), padding='same', activation='relu', input_shape=(432, 504, 3))) #1\n",
    "\n",
    "cnn.add(Conv2D(64, kernel_size=(3,3), strides=(1,1), padding='same', activation='relu')) #2\n",
    "cnn.add(MaxPool2D(pool_size=(2,2)))\n",
    "cnn.add(Dropout(0.25))\n",
    "\n",
    "cnn.add(Conv2D(128, kernel_size=(3,3), strides=(1,1), padding='same', activation='relu')) #3\n",
    "cnn.add(MaxPool2D(pool_size=(2,2)))\n",
    "cnn.add(Dropout(0.25))\n",
    "\n",
    "cnn.add(Conv2D(256, kernel_size=(3,3), strides=(1,1), padding='same', activation='relu')) #4\n",
    "cnn.add(MaxPool2D(pool_size=(2,2)))\n",
    "cnn.add(Dropout(0.25))\n",
    "\n",
    "cnn.add(Conv2D(512, kernel_size=(3,3), strides=(1,1), padding='same', activation='relu')) #5\n",
    "# cnn.add(MaxPool2D(pool_size=(2,2)))\n",
    "cnn.add(Dropout(0.25))\n",
    "\n",
    "cnn.add(Conv2D(678, kernel_size=(3,3), strides=(1,1), padding='same', activation='relu')) #6\n",
    "# cnn.add(MaxPool2D(pool_size=(2,2)))\n",
    "\n",
    "cnn.add(Conv2D(1024, kernel_size=(3,3), strides=(1,1), padding='same', activation='relu')) #7\n",
    "# cnn.add(MaxPool2D(pool_size=(2,2)))\n",
    "\n",
    "# cnn.add(Conv2D(1024, kernel_size=(3,3), strides=(1,1), padding='same', activation='relu')) #8\n",
    "# cnn.add(MaxPool2D(pool_size=(2,2)))\n",
    "cnn.add(Dropout(0.25))\n",
    "\n",
    "# cnn.add(Conv2D(360, kernel_size=(3,3), strides=(3,3), padding='same', activation='relu')) #9\n",
    "# cnn.add(Conv2D(400, kernel_size=(3,3), strides=(3,3), padding='same', activation='relu')) #10\n",
    "# cnn.add(MaxPool2D(pool_size=(2,2)))\n",
    "# cnn.add(Dropout(0.25))\n",
    "\n",
    "# cnn.add(Conv2D(430, kernel_size=(3,3), strides=(3,3), padding='same', activation='relu')) #11\n",
    "# cnn.add(Conv2D(480, kernel_size=(3,3), strides=(3,3), padding='same', activation='relu')) #12\n",
    "# cnn.add(MaxPool2D(pool_size=(2,2)))\n",
    "# cnn.add(Dropout(0.25))\n",
    "\n",
    "# cnn.add(Conv2D(510, kernel_size=(3,3), strides=(3,3), padding='same', activation='relu')) #13\n",
    "# cnn.add(Conv2D(550, kernel_size=(3,3), strides=(3,3), padding='same', activation='relu')) #14\n",
    "# cnn.add(Conv2D(610, kernel_size=(3,3), strides=(3,3), padding='same', activation='relu')) #15\n",
    "# cnn.add(Dropout(0.25))\n",
    "\n",
    "\n",
    "cnn.add(GlobalAveragePooling2D())\n",
    "# cnn.add(Flatten())\n",
    "\n",
    "cnn.add(Dense(550, activation='relu'))\n",
    "cnn.add(Dropout(0.4))\n",
    "cnn.add(Dense(330, activation='relu'))\n",
    "cnn.add(Dropout(0.3))\n",
    "cnn.add(Dense(170, activation='relu'))\n",
    "cnn.add(Dropout(0.25))\n",
    "cnn.add(Dense(40, activation='relu'))\n",
    "cnn.add(Dropout(0.25))\n",
    "\n",
    "cnn.add(Dense(5, activation='softmax'))"
   ]
  },
  {
   "cell_type": "code",
   "execution_count": 23,
   "metadata": {},
   "outputs": [
    {
     "name": "stdout",
     "output_type": "stream",
     "text": [
      "Model: \"sequential_2\"\n",
      "_________________________________________________________________\n",
      "Layer (type)                 Output Shape              Param #   \n",
      "=================================================================\n",
      "conv2d_16 (Conv2D)           (None, 432, 504, 32)      896       \n",
      "_________________________________________________________________\n",
      "conv2d_17 (Conv2D)           (None, 432, 504, 64)      18496     \n",
      "_________________________________________________________________\n",
      "max_pooling2d_6 (MaxPooling2 (None, 216, 252, 64)      0         \n",
      "_________________________________________________________________\n",
      "dropout_18 (Dropout)         (None, 216, 252, 64)      0         \n",
      "_________________________________________________________________\n",
      "conv2d_18 (Conv2D)           (None, 216, 252, 128)     73856     \n",
      "_________________________________________________________________\n",
      "max_pooling2d_7 (MaxPooling2 (None, 108, 126, 128)     0         \n",
      "_________________________________________________________________\n",
      "dropout_19 (Dropout)         (None, 108, 126, 128)     0         \n",
      "_________________________________________________________________\n",
      "conv2d_19 (Conv2D)           (None, 108, 126, 256)     295168    \n",
      "_________________________________________________________________\n",
      "max_pooling2d_8 (MaxPooling2 (None, 54, 63, 256)       0         \n",
      "_________________________________________________________________\n",
      "dropout_20 (Dropout)         (None, 54, 63, 256)       0         \n",
      "_________________________________________________________________\n",
      "conv2d_20 (Conv2D)           (None, 54, 63, 512)       1180160   \n",
      "_________________________________________________________________\n",
      "dropout_21 (Dropout)         (None, 54, 63, 512)       0         \n",
      "_________________________________________________________________\n",
      "conv2d_21 (Conv2D)           (None, 54, 63, 678)       3124902   \n",
      "_________________________________________________________________\n",
      "conv2d_22 (Conv2D)           (None, 54, 63, 1024)      6249472   \n",
      "_________________________________________________________________\n",
      "dropout_22 (Dropout)         (None, 54, 63, 1024)      0         \n",
      "_________________________________________________________________\n",
      "global_average_pooling2d_2 ( (None, 1024)              0         \n",
      "_________________________________________________________________\n",
      "dense_10 (Dense)             (None, 550)               563750    \n",
      "_________________________________________________________________\n",
      "dropout_23 (Dropout)         (None, 550)               0         \n",
      "_________________________________________________________________\n",
      "dense_11 (Dense)             (None, 330)               181830    \n",
      "_________________________________________________________________\n",
      "dropout_24 (Dropout)         (None, 330)               0         \n",
      "_________________________________________________________________\n",
      "dense_12 (Dense)             (None, 170)               56270     \n",
      "_________________________________________________________________\n",
      "dropout_25 (Dropout)         (None, 170)               0         \n",
      "_________________________________________________________________\n",
      "dense_13 (Dense)             (None, 40)                6840      \n",
      "_________________________________________________________________\n",
      "dropout_26 (Dropout)         (None, 40)                0         \n",
      "_________________________________________________________________\n",
      "dense_14 (Dense)             (None, 5)                 205       \n",
      "=================================================================\n",
      "Total params: 11,751,845\n",
      "Trainable params: 11,751,845\n",
      "Non-trainable params: 0\n",
      "_________________________________________________________________\n"
     ]
    }
   ],
   "source": [
    "cnn.summary()"
   ]
  },
  {
   "cell_type": "code",
   "execution_count": 24,
   "metadata": {},
   "outputs": [],
   "source": [
    "cnn.compile(loss='categorical_crossentropy', optimizer='sgd', metrics=['accuracy'])"
   ]
  },
  {
   "cell_type": "code",
   "execution_count": 25,
   "metadata": {},
   "outputs": [],
   "source": [
    "filepath = \"saved-model-{epoch:02d}-{val_loss:.2f}.hdf5\""
   ]
  },
  {
   "cell_type": "code",
   "execution_count": 26,
   "metadata": {},
   "outputs": [],
   "source": [
    "checkpoint = ModelCheckpoint(filepath, monitor='val_loss', verbose=1, save_best_only=False, mode='max')"
   ]
  },
  {
   "cell_type": "code",
   "execution_count": null,
   "metadata": {},
   "outputs": [
    {
     "name": "stdout",
     "output_type": "stream",
     "text": [
      "Epoch 1/100\n"
     ]
    }
   ],
   "source": [
    "cnn.fit(train_x, y_train, batch_size=8, epochs=100, validation_data=(val_x, y_val), verbose=1, callbacks=[checkpoint])"
   ]
  },
  {
   "cell_type": "code",
   "execution_count": null,
   "metadata": {},
   "outputs": [],
   "source": []
  },
  {
   "cell_type": "code",
   "execution_count": null,
   "metadata": {},
   "outputs": [],
   "source": []
  },
  {
   "cell_type": "code",
   "execution_count": 23,
   "metadata": {},
   "outputs": [
    {
     "name": "stdout",
     "output_type": "stream",
     "text": [
      "Epoch 1/100\n",
      "250/250 [==============================] - ETA: 0s - loss: 1.6102 - accuracy: 0.1880\n",
      "Epoch 00001: saving model to saved-model-01-1.61.hdf5\n",
      "250/250 [==============================] - 251s 1s/step - loss: 1.6102 - accuracy: 0.1880 - val_loss: 1.6094 - val_accuracy: 0.2000\n",
      "Epoch 2/100\n",
      "250/250 [==============================] - ETA: 0s - loss: 1.6101 - accuracy: 0.1775\n",
      "Epoch 00002: saving model to saved-model-02-1.61.hdf5\n",
      "250/250 [==============================] - 234s 936ms/step - loss: 1.6101 - accuracy: 0.1775 - val_loss: 1.6094 - val_accuracy: 0.2000\n",
      "Epoch 3/100\n",
      "250/250 [==============================] - ETA: 0s - loss: 1.6099 - accuracy: 0.1915\n",
      "Epoch 00003: saving model to saved-model-03-1.61.hdf5\n",
      "250/250 [==============================] - 230s 921ms/step - loss: 1.6099 - accuracy: 0.1915 - val_loss: 1.6095 - val_accuracy: 0.2000\n",
      "Epoch 4/100\n",
      "250/250 [==============================] - ETA: 0s - loss: 1.6099 - accuracy: 0.1955\n",
      "Epoch 00004: saving model to saved-model-04-1.61.hdf5\n",
      "250/250 [==============================] - 227s 907ms/step - loss: 1.6099 - accuracy: 0.1955 - val_loss: 1.6094 - val_accuracy: 0.2000\n",
      "Epoch 5/100\n",
      "250/250 [==============================] - ETA: 0s - loss: 1.6099 - accuracy: 0.1785\n",
      "Epoch 00005: saving model to saved-model-05-1.61.hdf5\n",
      "250/250 [==============================] - 227s 907ms/step - loss: 1.6099 - accuracy: 0.1785 - val_loss: 1.6094 - val_accuracy: 0.2000\n",
      "Epoch 6/100\n",
      "250/250 [==============================] - ETA: 0s - loss: 1.6099 - accuracy: 0.1925\n",
      "Epoch 00006: saving model to saved-model-06-1.61.hdf5\n",
      "250/250 [==============================] - 227s 909ms/step - loss: 1.6099 - accuracy: 0.1925 - val_loss: 1.6094 - val_accuracy: 0.2000\n",
      "Epoch 7/100\n",
      "250/250 [==============================] - ETA: 0s - loss: 1.6099 - accuracy: 0.1860\n",
      "Epoch 00007: saving model to saved-model-07-1.61.hdf5\n",
      "250/250 [==============================] - 230s 920ms/step - loss: 1.6099 - accuracy: 0.1860 - val_loss: 1.6094 - val_accuracy: 0.2000\n",
      "Epoch 8/100\n",
      "250/250 [==============================] - ETA: 0s - loss: 1.6099 - accuracy: 0.1950\n",
      "Epoch 00008: saving model to saved-model-08-1.61.hdf5\n",
      "250/250 [==============================] - 233s 931ms/step - loss: 1.6099 - accuracy: 0.1950 - val_loss: 1.6094 - val_accuracy: 0.2000\n",
      "Epoch 9/100\n",
      "250/250 [==============================] - ETA: 0s - loss: 1.6099 - accuracy: 0.1830\n",
      "Epoch 00009: saving model to saved-model-09-1.61.hdf5\n",
      "250/250 [==============================] - 235s 942ms/step - loss: 1.6099 - accuracy: 0.1830 - val_loss: 1.6094 - val_accuracy: 0.2000\n",
      "Epoch 10/100\n",
      "250/250 [==============================] - ETA: 0s - loss: 1.6099 - accuracy: 0.1895\n",
      "Epoch 00010: saving model to saved-model-10-1.61.hdf5\n",
      "250/250 [==============================] - 234s 938ms/step - loss: 1.6099 - accuracy: 0.1895 - val_loss: 1.6094 - val_accuracy: 0.2000\n",
      "Epoch 11/100\n",
      "250/250 [==============================] - ETA: 0s - loss: 1.6099 - accuracy: 0.1930\n",
      "Epoch 00011: saving model to saved-model-11-1.61.hdf5\n",
      "250/250 [==============================] - 230s 922ms/step - loss: 1.6099 - accuracy: 0.1930 - val_loss: 1.6094 - val_accuracy: 0.2000\n",
      "Epoch 12/100\n",
      "250/250 [==============================] - ETA: 0s - loss: 1.6099 - accuracy: 0.1960\n",
      "Epoch 00012: saving model to saved-model-12-1.61.hdf5\n",
      "250/250 [==============================] - 231s 924ms/step - loss: 1.6099 - accuracy: 0.1960 - val_loss: 1.6094 - val_accuracy: 0.2000\n",
      "Epoch 13/100\n",
      "250/250 [==============================] - ETA: 0s - loss: 1.6099 - accuracy: 0.1785\n",
      "Epoch 00013: saving model to saved-model-13-1.61.hdf5\n",
      "250/250 [==============================] - 233s 931ms/step - loss: 1.6099 - accuracy: 0.1785 - val_loss: 1.6094 - val_accuracy: 0.2000\n",
      "Epoch 14/100\n",
      "250/250 [==============================] - ETA: 0s - loss: 1.6099 - accuracy: 0.1925\n",
      "Epoch 00014: saving model to saved-model-14-1.61.hdf5\n",
      "250/250 [==============================] - 231s 925ms/step - loss: 1.6099 - accuracy: 0.1925 - val_loss: 1.6094 - val_accuracy: 0.2000\n",
      "Epoch 15/100\n",
      "250/250 [==============================] - ETA: 0s - loss: 1.6099 - accuracy: 0.1855\n",
      "Epoch 00015: saving model to saved-model-15-1.61.hdf5\n",
      "250/250 [==============================] - 230s 921ms/step - loss: 1.6099 - accuracy: 0.1855 - val_loss: 1.6094 - val_accuracy: 0.2000\n",
      "Epoch 16/100\n",
      "250/250 [==============================] - ETA: 0s - loss: 1.6099 - accuracy: 0.1860\n",
      "Epoch 00016: saving model to saved-model-16-1.61.hdf5\n",
      "250/250 [==============================] - 231s 926ms/step - loss: 1.6099 - accuracy: 0.1860 - val_loss: 1.6094 - val_accuracy: 0.2000\n",
      "Epoch 17/100\n",
      "250/250 [==============================] - ETA: 0s - loss: 1.6099 - accuracy: 0.1905\n",
      "Epoch 00017: saving model to saved-model-17-1.61.hdf5\n",
      "250/250 [==============================] - 231s 923ms/step - loss: 1.6099 - accuracy: 0.1905 - val_loss: 1.6094 - val_accuracy: 0.2000\n",
      "Epoch 18/100\n",
      "250/250 [==============================] - ETA: 0s - loss: 1.6099 - accuracy: 0.1900\n",
      "Epoch 00018: saving model to saved-model-18-1.61.hdf5\n",
      "250/250 [==============================] - 231s 926ms/step - loss: 1.6099 - accuracy: 0.1900 - val_loss: 1.6094 - val_accuracy: 0.2000\n",
      "Epoch 19/100\n",
      "250/250 [==============================] - ETA: 0s - loss: 1.6099 - accuracy: 0.1840\n",
      "Epoch 00019: saving model to saved-model-19-1.61.hdf5\n",
      "250/250 [==============================] - 232s 928ms/step - loss: 1.6099 - accuracy: 0.1840 - val_loss: 1.6094 - val_accuracy: 0.2000\n",
      "Epoch 20/100\n",
      "250/250 [==============================] - ETA: 0s - loss: 1.6099 - accuracy: 0.1820\n",
      "Epoch 00020: saving model to saved-model-20-1.61.hdf5\n",
      "250/250 [==============================] - 230s 922ms/step - loss: 1.6099 - accuracy: 0.1820 - val_loss: 1.6094 - val_accuracy: 0.2000\n",
      "Epoch 21/100\n",
      "250/250 [==============================] - ETA: 0s - loss: 1.6099 - accuracy: 0.1905\n",
      "Epoch 00021: saving model to saved-model-21-1.61.hdf5\n",
      "250/250 [==============================] - 230s 922ms/step - loss: 1.6099 - accuracy: 0.1905 - val_loss: 1.6094 - val_accuracy: 0.2000\n",
      "Epoch 22/100\n",
      "250/250 [==============================] - ETA: 0s - loss: 1.6098 - accuracy: 0.1895\n",
      "Epoch 00022: saving model to saved-model-22-1.61.hdf5\n",
      "250/250 [==============================] - 231s 925ms/step - loss: 1.6098 - accuracy: 0.1895 - val_loss: 1.6095 - val_accuracy: 0.2000\n",
      "Epoch 23/100\n",
      "250/250 [==============================] - ETA: 0s - loss: 1.6099 - accuracy: 0.1880\n",
      "Epoch 00023: saving model to saved-model-23-1.61.hdf5\n",
      "250/250 [==============================] - 234s 935ms/step - loss: 1.6099 - accuracy: 0.1880 - val_loss: 1.6094 - val_accuracy: 0.2000\n",
      "Epoch 24/100\n",
      "250/250 [==============================] - ETA: 0s - loss: 1.6099 - accuracy: 0.1900\n",
      "Epoch 00024: saving model to saved-model-24-1.61.hdf5\n",
      "250/250 [==============================] - 231s 925ms/step - loss: 1.6099 - accuracy: 0.1900 - val_loss: 1.6094 - val_accuracy: 0.2000\n",
      "Epoch 25/100\n",
      "250/250 [==============================] - ETA: 0s - loss: 1.6099 - accuracy: 0.1760\n",
      "Epoch 00025: saving model to saved-model-25-1.61.hdf5\n",
      "250/250 [==============================] - 231s 923ms/step - loss: 1.6099 - accuracy: 0.1760 - val_loss: 1.6094 - val_accuracy: 0.2000\n",
      "Epoch 26/100\n",
      "250/250 [==============================] - ETA: 0s - loss: 1.6099 - accuracy: 0.1880\n",
      "Epoch 00026: saving model to saved-model-26-1.61.hdf5\n",
      "250/250 [==============================] - 240s 961ms/step - loss: 1.6099 - accuracy: 0.1880 - val_loss: 1.6094 - val_accuracy: 0.2000\n",
      "Epoch 27/100\n",
      "250/250 [==============================] - ETA: 0s - loss: 1.6099 - accuracy: 0.1990\n",
      "Epoch 00027: saving model to saved-model-27-1.61.hdf5\n",
      "250/250 [==============================] - 232s 930ms/step - loss: 1.6099 - accuracy: 0.1990 - val_loss: 1.6094 - val_accuracy: 0.2000\n",
      "Epoch 28/100\n",
      "250/250 [==============================] - ETA: 0s - loss: 1.6099 - accuracy: 0.1945\n",
      "Epoch 00028: saving model to saved-model-28-1.61.hdf5\n",
      "250/250 [==============================] - 231s 925ms/step - loss: 1.6099 - accuracy: 0.1945 - val_loss: 1.6094 - val_accuracy: 0.2000\n",
      "Epoch 29/100\n",
      "250/250 [==============================] - ETA: 0s - loss: 1.6099 - accuracy: 0.1945\n",
      "Epoch 00029: saving model to saved-model-29-1.61.hdf5\n",
      "250/250 [==============================] - 232s 927ms/step - loss: 1.6099 - accuracy: 0.1945 - val_loss: 1.6094 - val_accuracy: 0.2000\n"
     ]
    },
    {
     "name": "stdout",
     "output_type": "stream",
     "text": [
      "Epoch 30/100\n",
      "250/250 [==============================] - ETA: 0s - loss: 1.6099 - accuracy: 0.1850\n",
      "Epoch 00030: saving model to saved-model-30-1.61.hdf5\n",
      "250/250 [==============================] - 231s 922ms/step - loss: 1.6099 - accuracy: 0.1850 - val_loss: 1.6094 - val_accuracy: 0.2000\n",
      "Epoch 31/100\n",
      "250/250 [==============================] - ETA: 0s - loss: 1.6099 - accuracy: 0.1850\n",
      "Epoch 00031: saving model to saved-model-31-1.61.hdf5\n",
      "250/250 [==============================] - 230s 920ms/step - loss: 1.6099 - accuracy: 0.1850 - val_loss: 1.6094 - val_accuracy: 0.2000\n",
      "Epoch 32/100\n",
      "250/250 [==============================] - ETA: 0s - loss: 1.6099 - accuracy: 0.1920\n",
      "Epoch 00032: saving model to saved-model-32-1.61.hdf5\n",
      "250/250 [==============================] - 230s 922ms/step - loss: 1.6099 - accuracy: 0.1920 - val_loss: 1.6094 - val_accuracy: 0.2000\n",
      "Epoch 33/100\n",
      "250/250 [==============================] - ETA: 0s - loss: 1.6099 - accuracy: 0.1835\n",
      "Epoch 00033: saving model to saved-model-33-1.61.hdf5\n",
      "250/250 [==============================] - 229s 918ms/step - loss: 1.6099 - accuracy: 0.1835 - val_loss: 1.6094 - val_accuracy: 0.2000\n",
      "Epoch 34/100\n",
      "250/250 [==============================] - ETA: 0s - loss: 1.6099 - accuracy: 0.1885\n",
      "Epoch 00034: saving model to saved-model-34-1.61.hdf5\n",
      "250/250 [==============================] - 232s 926ms/step - loss: 1.6099 - accuracy: 0.1885 - val_loss: 1.6094 - val_accuracy: 0.2000\n",
      "Epoch 35/100\n",
      "250/250 [==============================] - ETA: 0s - loss: 1.6099 - accuracy: 0.1780\n",
      "Epoch 00035: saving model to saved-model-35-1.61.hdf5\n",
      "250/250 [==============================] - 230s 921ms/step - loss: 1.6099 - accuracy: 0.1780 - val_loss: 1.6094 - val_accuracy: 0.2000\n",
      "Epoch 36/100\n",
      "250/250 [==============================] - ETA: 0s - loss: 1.6099 - accuracy: 0.1800\n",
      "Epoch 00036: saving model to saved-model-36-1.61.hdf5\n",
      "250/250 [==============================] - 230s 921ms/step - loss: 1.6099 - accuracy: 0.1800 - val_loss: 1.6094 - val_accuracy: 0.2000\n",
      "Epoch 37/100\n",
      "250/250 [==============================] - ETA: 0s - loss: 1.6099 - accuracy: 0.1895\n",
      "Epoch 00037: saving model to saved-model-37-1.61.hdf5\n",
      "250/250 [==============================] - 231s 922ms/step - loss: 1.6099 - accuracy: 0.1895 - val_loss: 1.6094 - val_accuracy: 0.2000\n",
      "Epoch 38/100\n",
      "250/250 [==============================] - ETA: 0s - loss: 1.6099 - accuracy: 0.1855\n",
      "Epoch 00038: saving model to saved-model-38-1.61.hdf5\n",
      "250/250 [==============================] - 231s 923ms/step - loss: 1.6099 - accuracy: 0.1855 - val_loss: 1.6094 - val_accuracy: 0.2000\n",
      "Epoch 39/100\n",
      "250/250 [==============================] - ETA: 0s - loss: 1.6099 - accuracy: 0.1905\n",
      "Epoch 00039: saving model to saved-model-39-1.61.hdf5\n",
      "250/250 [==============================] - 231s 925ms/step - loss: 1.6099 - accuracy: 0.1905 - val_loss: 1.6094 - val_accuracy: 0.2000\n",
      "Epoch 40/100\n",
      "250/250 [==============================] - ETA: 0s - loss: 1.6099 - accuracy: 0.1845\n",
      "Epoch 00040: saving model to saved-model-40-1.61.hdf5\n",
      "250/250 [==============================] - 234s 935ms/step - loss: 1.6099 - accuracy: 0.1845 - val_loss: 1.6094 - val_accuracy: 0.2000\n",
      "Epoch 41/100\n",
      "250/250 [==============================] - ETA: 0s - loss: 1.6099 - accuracy: 0.1855\n",
      "Epoch 00041: saving model to saved-model-41-1.61.hdf5\n",
      "250/250 [==============================] - 231s 923ms/step - loss: 1.6099 - accuracy: 0.1855 - val_loss: 1.6094 - val_accuracy: 0.2000\n",
      "Epoch 42/100\n",
      "250/250 [==============================] - ETA: 0s - loss: 1.6099 - accuracy: 0.1910\n",
      "Epoch 00042: saving model to saved-model-42-1.61.hdf5\n",
      "250/250 [==============================] - 238s 951ms/step - loss: 1.6099 - accuracy: 0.1910 - val_loss: 1.6094 - val_accuracy: 0.2000\n",
      "Epoch 43/100\n",
      "250/250 [==============================] - ETA: 0s - loss: 1.6099 - accuracy: 0.1875\n",
      "Epoch 00043: saving model to saved-model-43-1.61.hdf5\n",
      "250/250 [==============================] - 236s 945ms/step - loss: 1.6099 - accuracy: 0.1875 - val_loss: 1.6094 - val_accuracy: 0.2000\n",
      "Epoch 44/100\n",
      "250/250 [==============================] - ETA: 0s - loss: 1.6099 - accuracy: 0.1975\n",
      "Epoch 00044: saving model to saved-model-44-1.61.hdf5\n",
      "250/250 [==============================] - 238s 952ms/step - loss: 1.6099 - accuracy: 0.1975 - val_loss: 1.6094 - val_accuracy: 0.2000\n",
      "Epoch 45/100\n",
      "250/250 [==============================] - ETA: 0s - loss: 1.6099 - accuracy: 0.1945\n",
      "Epoch 00045: saving model to saved-model-45-1.61.hdf5\n",
      "250/250 [==============================] - 231s 926ms/step - loss: 1.6099 - accuracy: 0.1945 - val_loss: 1.6094 - val_accuracy: 0.2000\n",
      "Epoch 46/100\n",
      "250/250 [==============================] - ETA: 0s - loss: 1.6099 - accuracy: 0.1795\n",
      "Epoch 00046: saving model to saved-model-46-1.61.hdf5\n",
      "250/250 [==============================] - 231s 924ms/step - loss: 1.6099 - accuracy: 0.1795 - val_loss: 1.6094 - val_accuracy: 0.2000\n",
      "Epoch 47/100\n",
      "250/250 [==============================] - ETA: 0s - loss: 1.6099 - accuracy: 0.1845\n",
      "Epoch 00047: saving model to saved-model-47-1.61.hdf5\n",
      "250/250 [==============================] - 231s 923ms/step - loss: 1.6099 - accuracy: 0.1845 - val_loss: 1.6094 - val_accuracy: 0.2000\n",
      "Epoch 48/100\n",
      "250/250 [==============================] - ETA: 0s - loss: 1.6099 - accuracy: 0.1825\n",
      "Epoch 00048: saving model to saved-model-48-1.61.hdf5\n",
      "250/250 [==============================] - 231s 925ms/step - loss: 1.6099 - accuracy: 0.1825 - val_loss: 1.6094 - val_accuracy: 0.2000\n",
      "Epoch 49/100\n",
      "250/250 [==============================] - ETA: 0s - loss: 1.6099 - accuracy: 0.1780\n",
      "Epoch 00049: saving model to saved-model-49-1.61.hdf5\n",
      "250/250 [==============================] - 231s 925ms/step - loss: 1.6099 - accuracy: 0.1780 - val_loss: 1.6094 - val_accuracy: 0.2000\n",
      "Epoch 50/100\n",
      "250/250 [==============================] - ETA: 0s - loss: 1.6100 - accuracy: 0.1795\n",
      "Epoch 00050: saving model to saved-model-50-1.61.hdf5\n",
      "250/250 [==============================] - 234s 938ms/step - loss: 1.6100 - accuracy: 0.1795 - val_loss: 1.6094 - val_accuracy: 0.2000\n",
      "Epoch 51/100\n",
      "206/250 [=======================>......] - ETA: 40s - loss: 1.6099 - accuracy: 0.1675"
     ]
    },
    {
     "ename": "KeyboardInterrupt",
     "evalue": "",
     "output_type": "error",
     "traceback": [
      "\u001b[1;31m---------------------------------------------------------------------------\u001b[0m",
      "\u001b[1;31mKeyboardInterrupt\u001b[0m                         Traceback (most recent call last)",
      "\u001b[1;32m<ipython-input-23-1dd74932f597>\u001b[0m in \u001b[0;36m<module>\u001b[1;34m\u001b[0m\n\u001b[1;32m----> 1\u001b[1;33m \u001b[0mcnn\u001b[0m\u001b[1;33m.\u001b[0m\u001b[0mfit\u001b[0m\u001b[1;33m(\u001b[0m\u001b[0mtrain_x\u001b[0m\u001b[1;33m,\u001b[0m \u001b[0my_train\u001b[0m\u001b[1;33m,\u001b[0m \u001b[0mbatch_size\u001b[0m\u001b[1;33m=\u001b[0m\u001b[1;36m8\u001b[0m\u001b[1;33m,\u001b[0m \u001b[0mepochs\u001b[0m\u001b[1;33m=\u001b[0m\u001b[1;36m100\u001b[0m\u001b[1;33m,\u001b[0m \u001b[0mvalidation_data\u001b[0m\u001b[1;33m=\u001b[0m\u001b[1;33m(\u001b[0m\u001b[0mval_x\u001b[0m\u001b[1;33m,\u001b[0m \u001b[0my_val\u001b[0m\u001b[1;33m)\u001b[0m\u001b[1;33m,\u001b[0m \u001b[0mverbose\u001b[0m\u001b[1;33m=\u001b[0m\u001b[1;36m1\u001b[0m\u001b[1;33m,\u001b[0m \u001b[0mcallbacks\u001b[0m\u001b[1;33m=\u001b[0m\u001b[1;33m[\u001b[0m\u001b[0mcheckpoint\u001b[0m\u001b[1;33m]\u001b[0m\u001b[1;33m)\u001b[0m\u001b[1;33m\u001b[0m\u001b[1;33m\u001b[0m\u001b[0m\n\u001b[0m",
      "\u001b[1;32mC:\\anaconda\\lib\\site-packages\\tensorflow\\python\\keras\\engine\\training.py\u001b[0m in \u001b[0;36m_method_wrapper\u001b[1;34m(self, *args, **kwargs)\u001b[0m\n\u001b[0;32m    106\u001b[0m   \u001b[1;32mdef\u001b[0m \u001b[0m_method_wrapper\u001b[0m\u001b[1;33m(\u001b[0m\u001b[0mself\u001b[0m\u001b[1;33m,\u001b[0m \u001b[1;33m*\u001b[0m\u001b[0margs\u001b[0m\u001b[1;33m,\u001b[0m \u001b[1;33m**\u001b[0m\u001b[0mkwargs\u001b[0m\u001b[1;33m)\u001b[0m\u001b[1;33m:\u001b[0m\u001b[1;33m\u001b[0m\u001b[1;33m\u001b[0m\u001b[0m\n\u001b[0;32m    107\u001b[0m     \u001b[1;32mif\u001b[0m \u001b[1;32mnot\u001b[0m \u001b[0mself\u001b[0m\u001b[1;33m.\u001b[0m\u001b[0m_in_multi_worker_mode\u001b[0m\u001b[1;33m(\u001b[0m\u001b[1;33m)\u001b[0m\u001b[1;33m:\u001b[0m  \u001b[1;31m# pylint: disable=protected-access\u001b[0m\u001b[1;33m\u001b[0m\u001b[1;33m\u001b[0m\u001b[0m\n\u001b[1;32m--> 108\u001b[1;33m       \u001b[1;32mreturn\u001b[0m \u001b[0mmethod\u001b[0m\u001b[1;33m(\u001b[0m\u001b[0mself\u001b[0m\u001b[1;33m,\u001b[0m \u001b[1;33m*\u001b[0m\u001b[0margs\u001b[0m\u001b[1;33m,\u001b[0m \u001b[1;33m**\u001b[0m\u001b[0mkwargs\u001b[0m\u001b[1;33m)\u001b[0m\u001b[1;33m\u001b[0m\u001b[1;33m\u001b[0m\u001b[0m\n\u001b[0m\u001b[0;32m    109\u001b[0m \u001b[1;33m\u001b[0m\u001b[0m\n\u001b[0;32m    110\u001b[0m     \u001b[1;31m# Running inside `run_distribute_coordinator` already.\u001b[0m\u001b[1;33m\u001b[0m\u001b[1;33m\u001b[0m\u001b[1;33m\u001b[0m\u001b[0m\n",
      "\u001b[1;32mC:\\anaconda\\lib\\site-packages\\tensorflow\\python\\keras\\engine\\training.py\u001b[0m in \u001b[0;36mfit\u001b[1;34m(self, x, y, batch_size, epochs, verbose, callbacks, validation_split, validation_data, shuffle, class_weight, sample_weight, initial_epoch, steps_per_epoch, validation_steps, validation_batch_size, validation_freq, max_queue_size, workers, use_multiprocessing)\u001b[0m\n\u001b[0;32m   1096\u001b[0m                 batch_size=batch_size):\n\u001b[0;32m   1097\u001b[0m               \u001b[0mcallbacks\u001b[0m\u001b[1;33m.\u001b[0m\u001b[0mon_train_batch_begin\u001b[0m\u001b[1;33m(\u001b[0m\u001b[0mstep\u001b[0m\u001b[1;33m)\u001b[0m\u001b[1;33m\u001b[0m\u001b[1;33m\u001b[0m\u001b[0m\n\u001b[1;32m-> 1098\u001b[1;33m               \u001b[0mtmp_logs\u001b[0m \u001b[1;33m=\u001b[0m \u001b[0mtrain_function\u001b[0m\u001b[1;33m(\u001b[0m\u001b[0miterator\u001b[0m\u001b[1;33m)\u001b[0m\u001b[1;33m\u001b[0m\u001b[1;33m\u001b[0m\u001b[0m\n\u001b[0m\u001b[0;32m   1099\u001b[0m               \u001b[1;32mif\u001b[0m \u001b[0mdata_handler\u001b[0m\u001b[1;33m.\u001b[0m\u001b[0mshould_sync\u001b[0m\u001b[1;33m:\u001b[0m\u001b[1;33m\u001b[0m\u001b[1;33m\u001b[0m\u001b[0m\n\u001b[0;32m   1100\u001b[0m                 \u001b[0mcontext\u001b[0m\u001b[1;33m.\u001b[0m\u001b[0masync_wait\u001b[0m\u001b[1;33m(\u001b[0m\u001b[1;33m)\u001b[0m\u001b[1;33m\u001b[0m\u001b[1;33m\u001b[0m\u001b[0m\n",
      "\u001b[1;32mC:\\anaconda\\lib\\site-packages\\tensorflow\\python\\eager\\def_function.py\u001b[0m in \u001b[0;36m__call__\u001b[1;34m(self, *args, **kwds)\u001b[0m\n\u001b[0;32m    778\u001b[0m       \u001b[1;32melse\u001b[0m\u001b[1;33m:\u001b[0m\u001b[1;33m\u001b[0m\u001b[1;33m\u001b[0m\u001b[0m\n\u001b[0;32m    779\u001b[0m         \u001b[0mcompiler\u001b[0m \u001b[1;33m=\u001b[0m \u001b[1;34m\"nonXla\"\u001b[0m\u001b[1;33m\u001b[0m\u001b[1;33m\u001b[0m\u001b[0m\n\u001b[1;32m--> 780\u001b[1;33m         \u001b[0mresult\u001b[0m \u001b[1;33m=\u001b[0m \u001b[0mself\u001b[0m\u001b[1;33m.\u001b[0m\u001b[0m_call\u001b[0m\u001b[1;33m(\u001b[0m\u001b[1;33m*\u001b[0m\u001b[0margs\u001b[0m\u001b[1;33m,\u001b[0m \u001b[1;33m**\u001b[0m\u001b[0mkwds\u001b[0m\u001b[1;33m)\u001b[0m\u001b[1;33m\u001b[0m\u001b[1;33m\u001b[0m\u001b[0m\n\u001b[0m\u001b[0;32m    781\u001b[0m \u001b[1;33m\u001b[0m\u001b[0m\n\u001b[0;32m    782\u001b[0m       \u001b[0mnew_tracing_count\u001b[0m \u001b[1;33m=\u001b[0m \u001b[0mself\u001b[0m\u001b[1;33m.\u001b[0m\u001b[0m_get_tracing_count\u001b[0m\u001b[1;33m(\u001b[0m\u001b[1;33m)\u001b[0m\u001b[1;33m\u001b[0m\u001b[1;33m\u001b[0m\u001b[0m\n",
      "\u001b[1;32mC:\\anaconda\\lib\\site-packages\\tensorflow\\python\\eager\\def_function.py\u001b[0m in \u001b[0;36m_call\u001b[1;34m(self, *args, **kwds)\u001b[0m\n\u001b[0;32m    805\u001b[0m       \u001b[1;31m# In this case we have created variables on the first call, so we run the\u001b[0m\u001b[1;33m\u001b[0m\u001b[1;33m\u001b[0m\u001b[1;33m\u001b[0m\u001b[0m\n\u001b[0;32m    806\u001b[0m       \u001b[1;31m# defunned version which is guaranteed to never create variables.\u001b[0m\u001b[1;33m\u001b[0m\u001b[1;33m\u001b[0m\u001b[1;33m\u001b[0m\u001b[0m\n\u001b[1;32m--> 807\u001b[1;33m       \u001b[1;32mreturn\u001b[0m \u001b[0mself\u001b[0m\u001b[1;33m.\u001b[0m\u001b[0m_stateless_fn\u001b[0m\u001b[1;33m(\u001b[0m\u001b[1;33m*\u001b[0m\u001b[0margs\u001b[0m\u001b[1;33m,\u001b[0m \u001b[1;33m**\u001b[0m\u001b[0mkwds\u001b[0m\u001b[1;33m)\u001b[0m  \u001b[1;31m# pylint: disable=not-callable\u001b[0m\u001b[1;33m\u001b[0m\u001b[1;33m\u001b[0m\u001b[0m\n\u001b[0m\u001b[0;32m    808\u001b[0m     \u001b[1;32melif\u001b[0m \u001b[0mself\u001b[0m\u001b[1;33m.\u001b[0m\u001b[0m_stateful_fn\u001b[0m \u001b[1;32mis\u001b[0m \u001b[1;32mnot\u001b[0m \u001b[1;32mNone\u001b[0m\u001b[1;33m:\u001b[0m\u001b[1;33m\u001b[0m\u001b[1;33m\u001b[0m\u001b[0m\n\u001b[0;32m    809\u001b[0m       \u001b[1;31m# Release the lock early so that multiple threads can perform the call\u001b[0m\u001b[1;33m\u001b[0m\u001b[1;33m\u001b[0m\u001b[1;33m\u001b[0m\u001b[0m\n",
      "\u001b[1;32mC:\\anaconda\\lib\\site-packages\\tensorflow\\python\\eager\\function.py\u001b[0m in \u001b[0;36m__call__\u001b[1;34m(self, *args, **kwargs)\u001b[0m\n\u001b[0;32m   2827\u001b[0m     \u001b[1;32mwith\u001b[0m \u001b[0mself\u001b[0m\u001b[1;33m.\u001b[0m\u001b[0m_lock\u001b[0m\u001b[1;33m:\u001b[0m\u001b[1;33m\u001b[0m\u001b[1;33m\u001b[0m\u001b[0m\n\u001b[0;32m   2828\u001b[0m       \u001b[0mgraph_function\u001b[0m\u001b[1;33m,\u001b[0m \u001b[0margs\u001b[0m\u001b[1;33m,\u001b[0m \u001b[0mkwargs\u001b[0m \u001b[1;33m=\u001b[0m \u001b[0mself\u001b[0m\u001b[1;33m.\u001b[0m\u001b[0m_maybe_define_function\u001b[0m\u001b[1;33m(\u001b[0m\u001b[0margs\u001b[0m\u001b[1;33m,\u001b[0m \u001b[0mkwargs\u001b[0m\u001b[1;33m)\u001b[0m\u001b[1;33m\u001b[0m\u001b[1;33m\u001b[0m\u001b[0m\n\u001b[1;32m-> 2829\u001b[1;33m     \u001b[1;32mreturn\u001b[0m \u001b[0mgraph_function\u001b[0m\u001b[1;33m.\u001b[0m\u001b[0m_filtered_call\u001b[0m\u001b[1;33m(\u001b[0m\u001b[0margs\u001b[0m\u001b[1;33m,\u001b[0m \u001b[0mkwargs\u001b[0m\u001b[1;33m)\u001b[0m  \u001b[1;31m# pylint: disable=protected-access\u001b[0m\u001b[1;33m\u001b[0m\u001b[1;33m\u001b[0m\u001b[0m\n\u001b[0m\u001b[0;32m   2830\u001b[0m \u001b[1;33m\u001b[0m\u001b[0m\n\u001b[0;32m   2831\u001b[0m   \u001b[1;33m@\u001b[0m\u001b[0mproperty\u001b[0m\u001b[1;33m\u001b[0m\u001b[1;33m\u001b[0m\u001b[0m\n",
      "\u001b[1;32mC:\\anaconda\\lib\\site-packages\\tensorflow\\python\\eager\\function.py\u001b[0m in \u001b[0;36m_filtered_call\u001b[1;34m(self, args, kwargs, cancellation_manager)\u001b[0m\n\u001b[0;32m   1841\u001b[0m       \u001b[0;31m`\u001b[0m\u001b[0margs\u001b[0m\u001b[0;31m`\u001b[0m \u001b[1;32mand\u001b[0m\u001b[0;31m \u001b[0m\u001b[0;31m`\u001b[0m\u001b[0mkwargs\u001b[0m\u001b[0;31m`\u001b[0m\u001b[1;33m.\u001b[0m\u001b[1;33m\u001b[0m\u001b[1;33m\u001b[0m\u001b[0m\n\u001b[0;32m   1842\u001b[0m     \"\"\"\n\u001b[1;32m-> 1843\u001b[1;33m     return self._call_flat(\n\u001b[0m\u001b[0;32m   1844\u001b[0m         [t for t in nest.flatten((args, kwargs), expand_composites=True)\n\u001b[0;32m   1845\u001b[0m          if isinstance(t, (ops.Tensor,\n",
      "\u001b[1;32mC:\\anaconda\\lib\\site-packages\\tensorflow\\python\\eager\\function.py\u001b[0m in \u001b[0;36m_call_flat\u001b[1;34m(self, args, captured_inputs, cancellation_manager)\u001b[0m\n\u001b[0;32m   1921\u001b[0m         and executing_eagerly):\n\u001b[0;32m   1922\u001b[0m       \u001b[1;31m# No tape is watching; skip to running the function.\u001b[0m\u001b[1;33m\u001b[0m\u001b[1;33m\u001b[0m\u001b[1;33m\u001b[0m\u001b[0m\n\u001b[1;32m-> 1923\u001b[1;33m       return self._build_call_outputs(self._inference_function.call(\n\u001b[0m\u001b[0;32m   1924\u001b[0m           ctx, args, cancellation_manager=cancellation_manager))\n\u001b[0;32m   1925\u001b[0m     forward_backward = self._select_forward_and_backward_functions(\n",
      "\u001b[1;32mC:\\anaconda\\lib\\site-packages\\tensorflow\\python\\eager\\function.py\u001b[0m in \u001b[0;36mcall\u001b[1;34m(self, ctx, args, cancellation_manager)\u001b[0m\n\u001b[0;32m    543\u001b[0m       \u001b[1;32mwith\u001b[0m \u001b[0m_InterpolateFunctionError\u001b[0m\u001b[1;33m(\u001b[0m\u001b[0mself\u001b[0m\u001b[1;33m)\u001b[0m\u001b[1;33m:\u001b[0m\u001b[1;33m\u001b[0m\u001b[1;33m\u001b[0m\u001b[0m\n\u001b[0;32m    544\u001b[0m         \u001b[1;32mif\u001b[0m \u001b[0mcancellation_manager\u001b[0m \u001b[1;32mis\u001b[0m \u001b[1;32mNone\u001b[0m\u001b[1;33m:\u001b[0m\u001b[1;33m\u001b[0m\u001b[1;33m\u001b[0m\u001b[0m\n\u001b[1;32m--> 545\u001b[1;33m           outputs = execute.execute(\n\u001b[0m\u001b[0;32m    546\u001b[0m               \u001b[0mstr\u001b[0m\u001b[1;33m(\u001b[0m\u001b[0mself\u001b[0m\u001b[1;33m.\u001b[0m\u001b[0msignature\u001b[0m\u001b[1;33m.\u001b[0m\u001b[0mname\u001b[0m\u001b[1;33m)\u001b[0m\u001b[1;33m,\u001b[0m\u001b[1;33m\u001b[0m\u001b[1;33m\u001b[0m\u001b[0m\n\u001b[0;32m    547\u001b[0m               \u001b[0mnum_outputs\u001b[0m\u001b[1;33m=\u001b[0m\u001b[0mself\u001b[0m\u001b[1;33m.\u001b[0m\u001b[0m_num_outputs\u001b[0m\u001b[1;33m,\u001b[0m\u001b[1;33m\u001b[0m\u001b[1;33m\u001b[0m\u001b[0m\n",
      "\u001b[1;32mC:\\anaconda\\lib\\site-packages\\tensorflow\\python\\eager\\execute.py\u001b[0m in \u001b[0;36mquick_execute\u001b[1;34m(op_name, num_outputs, inputs, attrs, ctx, name)\u001b[0m\n\u001b[0;32m     57\u001b[0m   \u001b[1;32mtry\u001b[0m\u001b[1;33m:\u001b[0m\u001b[1;33m\u001b[0m\u001b[1;33m\u001b[0m\u001b[0m\n\u001b[0;32m     58\u001b[0m     \u001b[0mctx\u001b[0m\u001b[1;33m.\u001b[0m\u001b[0mensure_initialized\u001b[0m\u001b[1;33m(\u001b[0m\u001b[1;33m)\u001b[0m\u001b[1;33m\u001b[0m\u001b[1;33m\u001b[0m\u001b[0m\n\u001b[1;32m---> 59\u001b[1;33m     tensors = pywrap_tfe.TFE_Py_Execute(ctx._handle, device_name, op_name,\n\u001b[0m\u001b[0;32m     60\u001b[0m                                         inputs, attrs, num_outputs)\n\u001b[0;32m     61\u001b[0m   \u001b[1;32mexcept\u001b[0m \u001b[0mcore\u001b[0m\u001b[1;33m.\u001b[0m\u001b[0m_NotOkStatusException\u001b[0m \u001b[1;32mas\u001b[0m \u001b[0me\u001b[0m\u001b[1;33m:\u001b[0m\u001b[1;33m\u001b[0m\u001b[1;33m\u001b[0m\u001b[0m\n",
      "\u001b[1;31mKeyboardInterrupt\u001b[0m: "
     ]
    }
   ],
   "source": [
    "# cnn.fit(train_x, y_train, batch_size=8, epochs=100, validation_data=(val_x, y_val), verbose=1, callbacks=[checkpoint])"
   ]
  },
  {
   "cell_type": "code",
   "execution_count": null,
   "metadata": {},
   "outputs": [],
   "source": []
  }
 ],
 "metadata": {
  "kernelspec": {
   "display_name": "Python 3",
   "language": "python",
   "name": "python3"
  },
  "language_info": {
   "codemirror_mode": {
    "name": "ipython",
    "version": 3
   },
   "file_extension": ".py",
   "mimetype": "text/x-python",
   "name": "python",
   "nbconvert_exporter": "python",
   "pygments_lexer": "ipython3",
   "version": "3.8.3"
  }
 },
 "nbformat": 4,
 "nbformat_minor": 4
}
