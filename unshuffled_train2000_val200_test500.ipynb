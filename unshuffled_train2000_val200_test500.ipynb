{
 "cells": [
  {
   "cell_type": "code",
   "execution_count": 1,
   "metadata": {},
   "outputs": [],
   "source": [
    "import numpy as np\n",
    "import tensorflow\n",
    "from keras.models import Sequential\n",
    "from keras.layers import Conv2D, MaxPool2D, Flatten, Dense, InputLayer, BatchNormalization, Dropout, GlobalAveragePooling2D\n",
    "from keras.callbacks import ModelCheckpoint"
   ]
  },
  {
   "cell_type": "code",
   "execution_count": 2,
   "metadata": {},
   "outputs": [],
   "source": [
    "train_1=np.load('train_5class_1800.npy', allow_pickle=True, encoding='bytes')\n",
    "train_ext=np.load('train_extra_added_200.npy', allow_pickle=True, encoding='bytes')"
   ]
  },
  {
   "cell_type": "code",
   "execution_count": 3,
   "metadata": {},
   "outputs": [],
   "source": [
    "train=np.concatenate((train_1, train_ext), axis=0)"
   ]
  },
  {
   "cell_type": "code",
   "execution_count": 4,
   "metadata": {},
   "outputs": [],
   "source": [
    "val=np.load('val_5class_200.npy', allow_pickle=True, encoding='bytes')\n",
    "test=np.load('test_5class_500.npy', allow_pickle=True, encoding='bytes')"
   ]
  },
  {
   "cell_type": "code",
   "execution_count": 5,
   "metadata": {},
   "outputs": [],
   "source": [
    "# preprocessing train data\n",
    "\n",
    "n=len(train)\n",
    "x_train = train[:, :-1]\n",
    "y_train = train[:, -1]\n",
    "\n",
    "g = []\n",
    "for i in range(n):\n",
    "    a=x_train[i][0]\n",
    "    g.append(a)\n",
    "    \n",
    "train_x = np.array(g)"
   ]
  },
  {
   "cell_type": "code",
   "execution_count": 6,
   "metadata": {},
   "outputs": [],
   "source": [
    "# preprocessing validation data\n",
    "\n",
    "o=len(val)\n",
    "x_val = val[:, :-1]\n",
    "y_val = val[:, -1]\n",
    "\n",
    "k=[]\n",
    "for i in range(o):\n",
    "    c=x_val[i][0]\n",
    "    k.append(c)\n",
    "    \n",
    "val_x = np.array(k)"
   ]
  },
  {
   "cell_type": "code",
   "execution_count": 7,
   "metadata": {},
   "outputs": [],
   "source": [
    "#preprocessing test data\n",
    "\n",
    "m=len(test)\n",
    "x_test = test[:, :-1]\n",
    "y_test = test[:, -1]\n",
    "\n",
    "h=[]\n",
    "for i in range(m):\n",
    "    b=x_test[i][0]\n",
    "    h.append(b)\n",
    "    \n",
    "test_x = np.array(h)"
   ]
  },
  {
   "cell_type": "code",
   "execution_count": 8,
   "metadata": {},
   "outputs": [],
   "source": [
    "import category_encoders as ce\n",
    "enc = ce.OneHotEncoder(y_train, handle_unknown='return_nan', return_df=True, use_cat_names=True)"
   ]
  },
  {
   "cell_type": "code",
   "execution_count": 9,
   "metadata": {},
   "outputs": [],
   "source": [
    "y_train = enc.fit_transform(y_train)"
   ]
  },
  {
   "cell_type": "code",
   "execution_count": 10,
   "metadata": {},
   "outputs": [],
   "source": [
    "y_test = enc.transform(y_test)\n",
    "y_val = enc.transform(y_val)"
   ]
  },
  {
   "cell_type": "code",
   "execution_count": 11,
   "metadata": {},
   "outputs": [
    {
     "data": {
      "text/plain": [
       "(2000, 432, 504, 3)"
      ]
     },
     "execution_count": 11,
     "metadata": {},
     "output_type": "execute_result"
    }
   ],
   "source": [
    "train_x.shape"
   ]
  },
  {
   "cell_type": "code",
   "execution_count": null,
   "metadata": {},
   "outputs": [],
   "source": []
  },
  {
   "cell_type": "code",
   "execution_count": 12,
   "metadata": {},
   "outputs": [],
   "source": [
    "cnn = Sequential()\n",
    "\n",
    "cnn.add(Conv2D(50, kernel_size=(3,3), strides=(3,3), padding='same', activation='relu', input_shape=(432, 504, 3)))\n",
    "\n",
    "cnn.add(Conv2D(75, kernel_size=(3,3), strides=(3,3), padding='same', activation='relu'))\n",
    "cnn.add(MaxPool2D(pool_size=(2,2)))\n",
    "cnn.add(Dropout(0.25))\n",
    "\n",
    "cnn.add(Conv2D(105, kernel_size=(3,3), strides=(3,3), padding='same', activation='relu'))\n",
    "cnn.add(MaxPool2D(pool_size=(2,2)))\n",
    "cnn.add(Dropout(0.25))\n",
    "\n",
    "cnn.add(Conv2D(150, kernel_size=(3,3), strides=(3,3), padding='same', activation='relu'))\n",
    "cnn.add(MaxPool2D(pool_size=(2,2)))\n",
    "cnn.add(Dropout(0.25))\n",
    "\n",
    "cnn.add(Conv2D(190, kernel_size=(3,3), strides=(3,3), padding='same', activation='relu'))\n",
    "cnn.add(Dropout(0.25))\n",
    "\n",
    "cnn.add(Conv2D(240, kernel_size=(3,3), strides=(3,3), padding='same', activation='relu'))\n",
    "\n",
    "cnn.add(Conv2D(300, kernel_size=(3,3), strides=(3,3), padding='same', activation='relu'))\n",
    "\n",
    "cnn.add(Conv2D(330, kernel_size=(3,3), strides=(3,3), padding='same', activation='relu'))\n",
    "cnn.add(Dropout(0.25))\n",
    "\n",
    "cnn.add(GlobalAveragePooling2D())\n",
    "\n",
    "cnn.add(Dense(150, activation='relu'))\n",
    "cnn.add(Dropout(0.4))\n",
    "cnn.add(Dense(80, activation='relu'))\n",
    "cnn.add(Dropout(0.3))\n",
    "\n",
    "\n",
    "cnn.add(Dense(5, activation='softmax'))"
   ]
  },
  {
   "cell_type": "code",
   "execution_count": 13,
   "metadata": {},
   "outputs": [
    {
     "name": "stdout",
     "output_type": "stream",
     "text": [
      "Model: \"sequential\"\n",
      "_________________________________________________________________\n",
      "Layer (type)                 Output Shape              Param #   \n",
      "=================================================================\n",
      "conv2d (Conv2D)              (None, 144, 168, 50)      1400      \n",
      "_________________________________________________________________\n",
      "conv2d_1 (Conv2D)            (None, 48, 56, 75)        33825     \n",
      "_________________________________________________________________\n",
      "max_pooling2d (MaxPooling2D) (None, 24, 28, 75)        0         \n",
      "_________________________________________________________________\n",
      "dropout (Dropout)            (None, 24, 28, 75)        0         \n",
      "_________________________________________________________________\n",
      "conv2d_2 (Conv2D)            (None, 8, 10, 105)        70980     \n",
      "_________________________________________________________________\n",
      "max_pooling2d_1 (MaxPooling2 (None, 4, 5, 105)         0         \n",
      "_________________________________________________________________\n",
      "dropout_1 (Dropout)          (None, 4, 5, 105)         0         \n",
      "_________________________________________________________________\n",
      "conv2d_3 (Conv2D)            (None, 2, 2, 150)         141900    \n",
      "_________________________________________________________________\n",
      "max_pooling2d_2 (MaxPooling2 (None, 1, 1, 150)         0         \n",
      "_________________________________________________________________\n",
      "dropout_2 (Dropout)          (None, 1, 1, 150)         0         \n",
      "_________________________________________________________________\n",
      "conv2d_4 (Conv2D)            (None, 1, 1, 190)         256690    \n",
      "_________________________________________________________________\n",
      "dropout_3 (Dropout)          (None, 1, 1, 190)         0         \n",
      "_________________________________________________________________\n",
      "conv2d_5 (Conv2D)            (None, 1, 1, 240)         410640    \n",
      "_________________________________________________________________\n",
      "conv2d_6 (Conv2D)            (None, 1, 1, 300)         648300    \n",
      "_________________________________________________________________\n",
      "conv2d_7 (Conv2D)            (None, 1, 1, 330)         891330    \n",
      "_________________________________________________________________\n",
      "dropout_4 (Dropout)          (None, 1, 1, 330)         0         \n",
      "_________________________________________________________________\n",
      "global_average_pooling2d (Gl (None, 330)               0         \n",
      "_________________________________________________________________\n",
      "dense (Dense)                (None, 150)               49650     \n",
      "_________________________________________________________________\n",
      "dropout_5 (Dropout)          (None, 150)               0         \n",
      "_________________________________________________________________\n",
      "dense_1 (Dense)              (None, 80)                12080     \n",
      "_________________________________________________________________\n",
      "dropout_6 (Dropout)          (None, 80)                0         \n",
      "_________________________________________________________________\n",
      "dense_2 (Dense)              (None, 5)                 405       \n",
      "=================================================================\n",
      "Total params: 2,517,200\n",
      "Trainable params: 2,517,200\n",
      "Non-trainable params: 0\n",
      "_________________________________________________________________\n"
     ]
    }
   ],
   "source": [
    "cnn.summary()"
   ]
  },
  {
   "cell_type": "code",
   "execution_count": 14,
   "metadata": {},
   "outputs": [],
   "source": [
    "cnn.compile(loss='categorical_crossentropy', optimizer='sgd', metrics=['accuracy'])"
   ]
  },
  {
   "cell_type": "code",
   "execution_count": 15,
   "metadata": {},
   "outputs": [],
   "source": [
    "filepath = \"saved-model-{epoch:02d}-{val_loss:.2f}.hdf5\""
   ]
  },
  {
   "cell_type": "code",
   "execution_count": 16,
   "metadata": {},
   "outputs": [],
   "source": [
    "checkpoint = ModelCheckpoint(filepath, monitor='val_loss', verbose=1, save_best_only=False, mode='max')"
   ]
  },
  {
   "cell_type": "code",
   "execution_count": 17,
   "metadata": {},
   "outputs": [
    {
     "name": "stdout",
     "output_type": "stream",
     "text": [
      "Epoch 1/50\n",
      "250/250 [==============================] - ETA: 0s - loss: 1.6125 - accuracy: 0.1925\n",
      "Epoch 00001: saving model to saved-model-01-1.61.hdf5\n",
      "250/250 [==============================] - 173s 693ms/step - loss: 1.6125 - accuracy: 0.1925 - val_loss: 1.6093 - val_accuracy: 0.2000\n",
      "Epoch 2/50\n",
      "250/250 [==============================] - ETA: 0s - loss: 1.6109 - accuracy: 0.2120\n",
      "Epoch 00002: saving model to saved-model-02-1.61.hdf5\n",
      "250/250 [==============================] - 116s 464ms/step - loss: 1.6109 - accuracy: 0.2120 - val_loss: 1.6090 - val_accuracy: 0.2000\n",
      "Epoch 3/50\n",
      "250/250 [==============================] - ETA: 0s - loss: 1.6117 - accuracy: 0.1920\n",
      "Epoch 00003: saving model to saved-model-03-1.61.hdf5\n",
      "250/250 [==============================] - 116s 465ms/step - loss: 1.6117 - accuracy: 0.1920 - val_loss: 1.6091 - val_accuracy: 0.2000\n",
      "Epoch 4/50\n",
      "250/250 [==============================] - ETA: 0s - loss: 1.6095 - accuracy: 0.2025\n",
      "Epoch 00004: saving model to saved-model-04-1.61.hdf5\n",
      "250/250 [==============================] - 116s 464ms/step - loss: 1.6095 - accuracy: 0.2025 - val_loss: 1.6092 - val_accuracy: 0.1950\n",
      "Epoch 5/50\n",
      "250/250 [==============================] - ETA: 0s - loss: 1.6108 - accuracy: 0.2090\n",
      "Epoch 00005: saving model to saved-model-05-1.61.hdf5\n",
      "250/250 [==============================] - 114s 456ms/step - loss: 1.6108 - accuracy: 0.2090 - val_loss: 1.6094 - val_accuracy: 0.2000\n",
      "Epoch 6/50\n",
      "250/250 [==============================] - ETA: 0s - loss: 1.6112 - accuracy: 0.1945\n",
      "Epoch 00006: saving model to saved-model-06-1.61.hdf5\n",
      "250/250 [==============================] - 114s 457ms/step - loss: 1.6112 - accuracy: 0.1945 - val_loss: 1.6091 - val_accuracy: 0.2000\n",
      "Epoch 7/50\n",
      "250/250 [==============================] - ETA: 0s - loss: 1.6101 - accuracy: 0.1870\n",
      "Epoch 00007: saving model to saved-model-07-1.61.hdf5\n",
      "250/250 [==============================] - 115s 459ms/step - loss: 1.6101 - accuracy: 0.1870 - val_loss: 1.6088 - val_accuracy: 0.2000\n",
      "Epoch 8/50\n",
      "250/250 [==============================] - ETA: 0s - loss: 1.6089 - accuracy: 0.2080\n",
      "Epoch 00008: saving model to saved-model-08-1.61.hdf5\n",
      "250/250 [==============================] - 115s 458ms/step - loss: 1.6089 - accuracy: 0.2080 - val_loss: 1.6052 - val_accuracy: 0.3300\n",
      "Epoch 9/50\n",
      "250/250 [==============================] - ETA: 0s - loss: 1.6042 - accuracy: 0.2335\n",
      "Epoch 00009: saving model to saved-model-09-1.58.hdf5\n",
      "250/250 [==============================] - 115s 459ms/step - loss: 1.6042 - accuracy: 0.2335 - val_loss: 1.5780 - val_accuracy: 0.3700\n",
      "Epoch 10/50\n",
      "250/250 [==============================] - ETA: 0s - loss: 1.4327 - accuracy: 0.3415\n",
      "Epoch 00010: saving model to saved-model-10-1.18.hdf5\n",
      "250/250 [==============================] - 114s 458ms/step - loss: 1.4327 - accuracy: 0.3415 - val_loss: 1.1819 - val_accuracy: 0.3950\n",
      "Epoch 11/50\n",
      "250/250 [==============================] - ETA: 0s - loss: 1.1667 - accuracy: 0.4125\n",
      "Epoch 00011: saving model to saved-model-11-1.09.hdf5\n",
      "250/250 [==============================] - 114s 457ms/step - loss: 1.1667 - accuracy: 0.4125 - val_loss: 1.0858 - val_accuracy: 0.3950\n",
      "Epoch 12/50\n",
      "250/250 [==============================] - ETA: 0s - loss: 1.0895 - accuracy: 0.4145\n",
      "Epoch 00012: saving model to saved-model-12-0.99.hdf5\n",
      "250/250 [==============================] - 114s 458ms/step - loss: 1.0895 - accuracy: 0.4145 - val_loss: 0.9936 - val_accuracy: 0.4750\n",
      "Epoch 13/50\n",
      "250/250 [==============================] - ETA: 0s - loss: 1.0338 - accuracy: 0.4115\n",
      "Epoch 00013: saving model to saved-model-13-0.96.hdf5\n",
      "250/250 [==============================] - 114s 456ms/step - loss: 1.0338 - accuracy: 0.4115 - val_loss: 0.9615 - val_accuracy: 0.4250\n",
      "Epoch 14/50\n",
      "250/250 [==============================] - ETA: 0s - loss: 0.9901 - accuracy: 0.4485\n",
      "Epoch 00014: saving model to saved-model-14-0.93.hdf5\n",
      "250/250 [==============================] - 114s 456ms/step - loss: 0.9901 - accuracy: 0.4485 - val_loss: 0.9274 - val_accuracy: 0.4650\n",
      "Epoch 15/50\n",
      "250/250 [==============================] - ETA: 0s - loss: 0.9634 - accuracy: 0.4605\n",
      "Epoch 00015: saving model to saved-model-15-0.88.hdf5\n",
      "250/250 [==============================] - 114s 457ms/step - loss: 0.9634 - accuracy: 0.4605 - val_loss: 0.8825 - val_accuracy: 0.4950\n",
      "Epoch 16/50\n",
      "250/250 [==============================] - ETA: 0s - loss: 0.9154 - accuracy: 0.5235\n",
      "Epoch 00016: saving model to saved-model-16-0.83.hdf5\n",
      "250/250 [==============================] - 115s 459ms/step - loss: 0.9154 - accuracy: 0.5235 - val_loss: 0.8267 - val_accuracy: 0.6550\n",
      "Epoch 17/50\n",
      "250/250 [==============================] - ETA: 0s - loss: 0.8511 - accuracy: 0.5620\n",
      "Epoch 00017: saving model to saved-model-17-0.69.hdf5\n",
      "250/250 [==============================] - 119s 475ms/step - loss: 0.8511 - accuracy: 0.5620 - val_loss: 0.6860 - val_accuracy: 0.7300\n",
      "Epoch 18/50\n",
      "250/250 [==============================] - ETA: 0s - loss: 0.7420 - accuracy: 0.6210\n",
      "Epoch 00018: saving model to saved-model-18-0.77.hdf5\n",
      "250/250 [==============================] - 115s 460ms/step - loss: 0.7420 - accuracy: 0.6210 - val_loss: 0.7747 - val_accuracy: 0.5300\n",
      "Epoch 19/50\n",
      "250/250 [==============================] - ETA: 0s - loss: 0.6546 - accuracy: 0.6700\n",
      "Epoch 00019: saving model to saved-model-19-3.30.hdf5\n",
      "250/250 [==============================] - 115s 460ms/step - loss: 0.6546 - accuracy: 0.6700 - val_loss: 3.2978 - val_accuracy: 0.3200\n",
      "Epoch 20/50\n",
      "250/250 [==============================] - ETA: 0s - loss: 1.8446 - accuracy: 0.5645\n",
      "Epoch 00020: saving model to saved-model-20-1.15.hdf5\n",
      "250/250 [==============================] - 114s 458ms/step - loss: 1.8446 - accuracy: 0.5645 - val_loss: 1.1483 - val_accuracy: 0.5900\n",
      "Epoch 21/50\n",
      "250/250 [==============================] - ETA: 0s - loss: 1.0349 - accuracy: 0.5640\n",
      "Epoch 00021: saving model to saved-model-21-0.81.hdf5\n",
      "250/250 [==============================] - 115s 461ms/step - loss: 1.0349 - accuracy: 0.5640 - val_loss: 0.8056 - val_accuracy: 0.7150\n",
      "Epoch 22/50\n",
      "250/250 [==============================] - ETA: 0s - loss: 0.8329 - accuracy: 0.6170\n",
      "Epoch 00022: saving model to saved-model-22-0.65.hdf5\n",
      "250/250 [==============================] - 115s 459ms/step - loss: 0.8329 - accuracy: 0.6170 - val_loss: 0.6453 - val_accuracy: 0.6800\n",
      "Epoch 23/50\n",
      "250/250 [==============================] - ETA: 0s - loss: 0.6904 - accuracy: 0.7215\n",
      "Epoch 00023: saving model to saved-model-23-0.52.hdf5\n",
      "250/250 [==============================] - 114s 457ms/step - loss: 0.6904 - accuracy: 0.7215 - val_loss: 0.5250 - val_accuracy: 0.9350\n",
      "Epoch 24/50\n",
      "250/250 [==============================] - ETA: 0s - loss: 0.6276 - accuracy: 0.7900\n",
      "Epoch 00024: saving model to saved-model-24-0.39.hdf5\n",
      "250/250 [==============================] - 115s 462ms/step - loss: 0.6276 - accuracy: 0.7900 - val_loss: 0.3901 - val_accuracy: 0.9450\n",
      "Epoch 25/50\n",
      "250/250 [==============================] - ETA: 0s - loss: 0.6675 - accuracy: 0.7735\n",
      "Epoch 00025: saving model to saved-model-25-0.59.hdf5\n",
      "250/250 [==============================] - 115s 461ms/step - loss: 0.6675 - accuracy: 0.7735 - val_loss: 0.5912 - val_accuracy: 0.7900\n",
      "Epoch 26/50\n",
      "250/250 [==============================] - ETA: 0s - loss: 0.4887 - accuracy: 0.8345\n",
      "Epoch 00026: saving model to saved-model-26-0.16.hdf5\n",
      "250/250 [==============================] - 115s 459ms/step - loss: 0.4887 - accuracy: 0.8345 - val_loss: 0.1578 - val_accuracy: 0.9950\n",
      "Epoch 27/50\n",
      "250/250 [==============================] - ETA: 0s - loss: 0.4456 - accuracy: 0.8700\n",
      "Epoch 00027: saving model to saved-model-27-0.24.hdf5\n",
      "250/250 [==============================] - 115s 459ms/step - loss: 0.4456 - accuracy: 0.8700 - val_loss: 0.2368 - val_accuracy: 0.9350\n",
      "Epoch 28/50\n",
      "250/250 [==============================] - ETA: 0s - loss: 0.3434 - accuracy: 0.8965\n",
      "Epoch 00028: saving model to saved-model-28-0.10.hdf5\n",
      "250/250 [==============================] - 115s 458ms/step - loss: 0.3434 - accuracy: 0.8965 - val_loss: 0.0974 - val_accuracy: 1.0000\n",
      "Epoch 29/50\n",
      "250/250 [==============================] - ETA: 0s - loss: 0.2895 - accuracy: 0.9200\n",
      "Epoch 00029: saving model to saved-model-29-0.15.hdf5\n",
      "250/250 [==============================] - 114s 456ms/step - loss: 0.2895 - accuracy: 0.9200 - val_loss: 0.1481 - val_accuracy: 0.9650\n"
     ]
    },
    {
     "name": "stdout",
     "output_type": "stream",
     "text": [
      "Epoch 30/50\n",
      "250/250 [==============================] - ETA: 0s - loss: 0.4443 - accuracy: 0.8450\n",
      "Epoch 00030: saving model to saved-model-30-0.29.hdf5\n",
      "250/250 [==============================] - 120s 480ms/step - loss: 0.4443 - accuracy: 0.8450 - val_loss: 0.2872 - val_accuracy: 0.9050\n",
      "Epoch 31/50\n",
      "250/250 [==============================] - ETA: 0s - loss: 0.1923 - accuracy: 0.9530\n",
      "Epoch 00031: saving model to saved-model-31-0.03.hdf5\n",
      "250/250 [==============================] - 115s 459ms/step - loss: 0.1923 - accuracy: 0.9530 - val_loss: 0.0276 - val_accuracy: 1.0000\n",
      "Epoch 32/50\n",
      "250/250 [==============================] - ETA: 0s - loss: 0.4616 - accuracy: 0.8400\n",
      "Epoch 00032: saving model to saved-model-32-0.37.hdf5\n",
      "250/250 [==============================] - 114s 457ms/step - loss: 0.4616 - accuracy: 0.8400 - val_loss: 0.3742 - val_accuracy: 0.9150\n",
      "Epoch 33/50\n",
      "250/250 [==============================] - ETA: 0s - loss: 0.2066 - accuracy: 0.9435\n",
      "Epoch 00033: saving model to saved-model-33-0.04.hdf5\n",
      "250/250 [==============================] - 114s 457ms/step - loss: 0.2066 - accuracy: 0.9435 - val_loss: 0.0402 - val_accuracy: 0.9950\n",
      "Epoch 34/50\n",
      "250/250 [==============================] - ETA: 0s - loss: 0.1651 - accuracy: 0.9625\n",
      "Epoch 00034: saving model to saved-model-34-0.04.hdf5\n",
      "250/250 [==============================] - 115s 460ms/step - loss: 0.1651 - accuracy: 0.9625 - val_loss: 0.0353 - val_accuracy: 0.9900\n",
      "Epoch 35/50\n",
      "250/250 [==============================] - ETA: 0s - loss: 1.3546 - accuracy: 0.6020\n",
      "Epoch 00035: saving model to saved-model-35-1.69.hdf5\n",
      "250/250 [==============================] - 115s 460ms/step - loss: 1.3546 - accuracy: 0.6020 - val_loss: 1.6920 - val_accuracy: 0.2000\n",
      "Epoch 36/50\n",
      "250/250 [==============================] - ETA: 0s - loss: 1.6689 - accuracy: 0.2260\n",
      "Epoch 00036: saving model to saved-model-36-1.50.hdf5\n",
      "250/250 [==============================] - 116s 463ms/step - loss: 1.6689 - accuracy: 0.2260 - val_loss: 1.4981 - val_accuracy: 0.3950\n",
      "Epoch 37/50\n",
      "250/250 [==============================] - ETA: 0s - loss: 1.6257 - accuracy: 0.2115\n",
      "Epoch 00037: saving model to saved-model-37-1.65.hdf5\n",
      "250/250 [==============================] - 115s 462ms/step - loss: 1.6257 - accuracy: 0.2115 - val_loss: 1.6539 - val_accuracy: 0.2000\n",
      "Epoch 38/50\n",
      "250/250 [==============================] - ETA: 0s - loss: 1.6446 - accuracy: 0.1900\n",
      "Epoch 00038: saving model to saved-model-38-1.64.hdf5\n",
      "250/250 [==============================] - 116s 462ms/step - loss: 1.6446 - accuracy: 0.1900 - val_loss: 1.6356 - val_accuracy: 0.2000\n",
      "Epoch 39/50\n",
      "250/250 [==============================] - ETA: 0s - loss: 1.4968 - accuracy: 0.2850\n",
      "Epoch 00039: saving model to saved-model-39-1.19.hdf5\n",
      "250/250 [==============================] - 116s 464ms/step - loss: 1.4968 - accuracy: 0.2850 - val_loss: 1.1891 - val_accuracy: 0.3700\n",
      "Epoch 40/50\n",
      "250/250 [==============================] - ETA: 0s - loss: 1.1952 - accuracy: 0.3700\n",
      "Epoch 00040: saving model to saved-model-40-1.24.hdf5\n",
      "250/250 [==============================] - 116s 463ms/step - loss: 1.1952 - accuracy: 0.3700 - val_loss: 1.2396 - val_accuracy: 0.4050\n",
      "Epoch 41/50\n",
      "250/250 [==============================] - ETA: 0s - loss: 1.1096 - accuracy: 0.4075\n",
      "Epoch 00041: saving model to saved-model-41-1.07.hdf5\n",
      "250/250 [==============================] - 115s 462ms/step - loss: 1.1096 - accuracy: 0.4075 - val_loss: 1.0682 - val_accuracy: 0.3850\n",
      "Epoch 42/50\n",
      "250/250 [==============================] - ETA: 0s - loss: 1.0062 - accuracy: 0.4460\n",
      "Epoch 00042: saving model to saved-model-42-0.90.hdf5\n",
      "250/250 [==============================] - 118s 473ms/step - loss: 1.0062 - accuracy: 0.4460 - val_loss: 0.9016 - val_accuracy: 0.4550\n",
      "Epoch 43/50\n",
      "250/250 [==============================] - ETA: 0s - loss: 0.9360 - accuracy: 0.5025\n",
      "Epoch 00043: saving model to saved-model-43-0.87.hdf5\n",
      "250/250 [==============================] - 116s 462ms/step - loss: 0.9360 - accuracy: 0.5025 - val_loss: 0.8684 - val_accuracy: 0.5850\n",
      "Epoch 44/50\n",
      "250/250 [==============================] - ETA: 0s - loss: 1.0385 - accuracy: 0.4870\n",
      "Epoch 00044: saving model to saved-model-44-1.62.hdf5\n",
      "250/250 [==============================] - 118s 474ms/step - loss: 1.0385 - accuracy: 0.4870 - val_loss: 1.6163 - val_accuracy: 0.2000\n",
      "Epoch 45/50\n",
      "250/250 [==============================] - ETA: 0s - loss: 1.5426 - accuracy: 0.2525\n",
      "Epoch 00045: saving model to saved-model-45-1.08.hdf5\n",
      "250/250 [==============================] - 121s 485ms/step - loss: 1.5426 - accuracy: 0.2525 - val_loss: 1.0841 - val_accuracy: 0.3800\n",
      "Epoch 46/50\n",
      "250/250 [==============================] - ETA: 0s - loss: 1.0139 - accuracy: 0.4515\n",
      "Epoch 00046: saving model to saved-model-46-0.88.hdf5\n",
      "250/250 [==============================] - 121s 483ms/step - loss: 1.0139 - accuracy: 0.4515 - val_loss: 0.8767 - val_accuracy: 0.5550\n",
      "Epoch 47/50\n",
      "250/250 [==============================] - ETA: 0s - loss: 0.9058 - accuracy: 0.5190\n",
      "Epoch 00047: saving model to saved-model-47-0.82.hdf5\n",
      "250/250 [==============================] - 120s 480ms/step - loss: 0.9058 - accuracy: 0.5190 - val_loss: 0.8177 - val_accuracy: 0.6600\n",
      "Epoch 48/50\n",
      "250/250 [==============================] - ETA: 0s - loss: 0.8887 - accuracy: 0.5455\n",
      "Epoch 00048: saving model to saved-model-48-0.83.hdf5\n",
      "250/250 [==============================] - 123s 493ms/step - loss: 0.8887 - accuracy: 0.5455 - val_loss: 0.8317 - val_accuracy: 0.5650\n",
      "Epoch 49/50\n",
      "250/250 [==============================] - ETA: 0s - loss: 0.8548 - accuracy: 0.6070\n",
      "Epoch 00049: saving model to saved-model-49-0.76.hdf5\n",
      "250/250 [==============================] - 121s 484ms/step - loss: 0.8548 - accuracy: 0.6070 - val_loss: 0.7617 - val_accuracy: 0.5800\n",
      "Epoch 50/50\n",
      "250/250 [==============================] - ETA: 0s - loss: 0.7937 - accuracy: 0.6285\n",
      "Epoch 00050: saving model to saved-model-50-0.66.hdf5\n",
      "250/250 [==============================] - 117s 467ms/step - loss: 0.7937 - accuracy: 0.6285 - val_loss: 0.6628 - val_accuracy: 0.7700\n"
     ]
    },
    {
     "data": {
      "text/plain": [
       "<tensorflow.python.keras.callbacks.History at 0x21ee955c370>"
      ]
     },
     "execution_count": 17,
     "metadata": {},
     "output_type": "execute_result"
    }
   ],
   "source": [
    "cnn.fit(train_x, y_train, batch_size=8, epochs=50, validation_data=(val_x, y_val), verbose=1, callbacks=[checkpoint])"
   ]
  },
  {
   "cell_type": "code",
   "execution_count": 18,
   "metadata": {},
   "outputs": [],
   "source": [
    "train_loss=[1.6125, 1.6109, 1.6117, 1.6095, 1.6108, 1.6112, 1.6101, 1.6089, 1.6042, 1.4327, 1.1667, 1.0895, 1.0338, 0.9901, \n",
    "           0.9634, 0.9154, 0.8511, 0.7420, 0.6546, 1.8446, 1.0349, 0.8329, 0.6904, 0.6276, 0.6675, 0.4887, 0.4456, 0.3434, \n",
    "           0.2895, 0.4443, 0.1923, 0.4616, 0.2066, 0.1651, 1.3546, 1.6689, 1.6257, 1.6446, 1.4968, 1.1952, 1.1096, 1.0062, \n",
    "            0.9360, 1.0385, 1.5426, 1.0139, 0.9058, 0.8887, 0.8548, 0.7937]"
   ]
  },
  {
   "cell_type": "code",
   "execution_count": 19,
   "metadata": {},
   "outputs": [],
   "source": [
    "val_loss=[1.6093, 1.6090, 1.6091, 1.6092, 1.6094, 1.6091, 1.6088, 1.6052, 1.5780, 1.1819, 1.0858, 0.9936, 0.9615, 0.9274, \n",
    "          0.8825, 0.8267, 0.6860, 0.7747, 3.2978, 1.1483, 0.8056, 0.6453, 0.5250, 0.3901, 0.5912, 0.1578, 0.2368, 0.0974,\n",
    "          0.1481, 0.2872, 0.0276, 0.3742, 0.0402, 0.0353, 1.6920, 1.4981, 1.6539, 1.6356, 1.1891, 1.2396, 1.0682, 0.9016, \n",
    "         0.8684, 1.6163, 1.0841, 0.8767, 0.8177, 0.8317, 0.7617, 0.6628]"
   ]
  },
  {
   "cell_type": "code",
   "execution_count": 22,
   "metadata": {},
   "outputs": [
    {
     "name": "stdout",
     "output_type": "stream",
     "text": [
      "[1, 2, 3, 4, 5, 6, 7, 8, 9, 10, 11, 12, 13, 14, 15, 16, 17, 18, 19, 20, 21, 22, 23, 24, 25, 26, 27, 28, 29, 30, 31, 32, 33, 34, 35, 36, 37, 38, 39, 40, 41, 42, 43, 44, 45, 46, 47, 48, 49, 50]\n"
     ]
    }
   ],
   "source": [
    "epochs=[]\n",
    "for i in range(1, 51):\n",
    "    epochs.append(i)\n",
    "\n",
    "print(epochs)"
   ]
  },
  {
   "cell_type": "code",
   "execution_count": 20,
   "metadata": {},
   "outputs": [
    {
     "data": {
      "text/plain": [
       "(50, 50)"
      ]
     },
     "execution_count": 20,
     "metadata": {},
     "output_type": "execute_result"
    }
   ],
   "source": [
    "len(train_loss), len(val_loss)"
   ]
  },
  {
   "cell_type": "code",
   "execution_count": 21,
   "metadata": {},
   "outputs": [],
   "source": [
    "import matplotlib.pyplot as plt"
   ]
  },
  {
   "cell_type": "code",
   "execution_count": 23,
   "metadata": {},
   "outputs": [
    {
     "data": {
      "image/png": "[encoded data removed]",
      "text/plain": [
       "<Figure size 1008x576 with 1 Axes>"
      ]
     },
     "metadata": {
      "needs_background": "light"
     },
     "output_type": "display_data"
    }
   ],
   "source": [
    "plt.figure(figsize=(14,8))\n",
    "plt.plot(epochs, train_loss, color='blue', label='training_loss', linestyle='solid', linewidth=3)\n",
    "plt.plot(epochs, val_loss, color='red', label='validation loss', linestyle='dashdot', linewidth=2)\n",
    "plt.grid(color='green', linestyle='solid', linewidth=1)\n",
    "plt.xlabel('50 epochs')\n",
    "plt.title('training & validation loss vs epochs')\n",
    "plt.legend()\n",
    "plt.show()"
   ]
  },
  {
   "cell_type": "code",
   "execution_count": 24,
   "metadata": {},
   "outputs": [],
   "source": [
    "cnn.load_weights('saved-model-25-0.59.hdf5')"
   ]
  },
  {
   "cell_type": "code",
   "execution_count": 25,
   "metadata": {},
   "outputs": [
    {
     "name": "stdout",
     "output_type": "stream",
     "text": [
      "63/63 [==============================] - 16s 257ms/step - loss: 0.5881 - accuracy: 0.8140\n",
      "test loss, test acc: [0.5880771279335022, 0.8140000104904175]\n"
     ]
    }
   ],
   "source": [
    "results = cnn.evaluate(test_x, y_test, batch_size=8)\n",
    "print(\"test loss, test acc:\", results)"
   ]
  },
  {
   "cell_type": "code",
   "execution_count": 26,
   "metadata": {},
   "outputs": [],
   "source": [
    "extrnl_test=np.load('external_testdata_15.npy', allow_pickle=True, encoding='bytes')"
   ]
  },
  {
   "cell_type": "code",
   "execution_count": 27,
   "metadata": {},
   "outputs": [],
   "source": [
    "#preprocessing external test data\n",
    "\n",
    "q=len(extrnl_test)\n",
    "x_extrnl_test = extrnl_test[:, :-1]\n",
    "y_extrnl_test = extrnl_test[:, -1]\n",
    "\n",
    "w=[]\n",
    "for i in range(q):\n",
    "    d=x_extrnl_test[i][0]\n",
    "    w.append(d)\n",
    "    \n",
    "extrnl_test_x = np.array(w)"
   ]
  },
  {
   "cell_type": "code",
   "execution_count": 28,
   "metadata": {},
   "outputs": [],
   "source": [
    "y_extrnl_test = enc.transform(y_extrnl_test)"
   ]
  },
  {
   "cell_type": "code",
   "execution_count": 29,
   "metadata": {},
   "outputs": [
    {
     "name": "stdout",
     "output_type": "stream",
     "text": [
      "2/2 [==============================] - 0s 81ms/step - loss: 2.3446 - accuracy: 0.0667\n",
      "test loss, test acc: [2.344597816467285, 0.06666667014360428]\n"
     ]
    }
   ],
   "source": [
    "results = cnn.evaluate(extrnl_test_x, y_extrnl_test, batch_size=8)\n",
    "print(\"test loss, test acc:\", results)"
   ]
  },
  {
   "cell_type": "code",
   "execution_count": null,
   "metadata": {},
   "outputs": [],
   "source": []
  },
  {
   "cell_type": "code",
   "execution_count": 30,
   "metadata": {},
   "outputs": [],
   "source": [
    "yaman_test=np.load('test_yaman_kalyan_imagedata_5.npy', allow_pickle=True, encoding='bytes')"
   ]
  },
  {
   "cell_type": "code",
   "execution_count": 31,
   "metadata": {},
   "outputs": [],
   "source": [
    "t=len(yaman_test)\n",
    "x_yaman_test = yaman_test[:, :-1]\n",
    "y_yaman_test = yaman_test[:, -1]"
   ]
  },
  {
   "cell_type": "code",
   "execution_count": 32,
   "metadata": {},
   "outputs": [
    {
     "data": {
      "text/plain": [
       "array(['test_Yaman_kalyan', 'test_Yaman_kalyan', 'test_Yaman_kalyan',\n",
       "       'test_Yaman_kalyan', 'test_Yaman_kalyan'], dtype=object)"
      ]
     },
     "execution_count": 32,
     "metadata": {},
     "output_type": "execute_result"
    }
   ],
   "source": [
    "y_yaman_test"
   ]
  },
  {
   "cell_type": "code",
   "execution_count": 34,
   "metadata": {},
   "outputs": [],
   "source": [
    "y_yaman_test1=np.array(['Yaman_kalyan', 'Yaman_kalyan', 'Yaman_kalyan', 'Yaman_kalyan', 'Yaman_kalyan'], dtype=object)"
   ]
  },
  {
   "cell_type": "code",
   "execution_count": 35,
   "metadata": {},
   "outputs": [],
   "source": [
    "x=[]\n",
    "for i in range(t):\n",
    "    e=x_yaman_test[i][0]\n",
    "    x.append(e)\n",
    "    \n",
    "yaman_test_x = np.array(x)"
   ]
  },
  {
   "cell_type": "code",
   "execution_count": 36,
   "metadata": {},
   "outputs": [],
   "source": [
    "y_yaman_test1 = enc.transform(y_yaman_test1)"
   ]
  },
  {
   "cell_type": "code",
   "execution_count": 37,
   "metadata": {},
   "outputs": [
    {
     "name": "stdout",
     "output_type": "stream",
     "text": [
      "1/1 [==============================] - 0s 3ms/step - loss: 5.9466 - accuracy: 0.0000e+00\n",
      "test loss, test acc: [5.946641445159912, 0.0]\n"
     ]
    }
   ],
   "source": [
    "results = cnn.evaluate(yaman_test_x, y_yaman_test1, batch_size=8)\n",
    "print(\"test loss, test acc:\", results)"
   ]
  },
  {
   "cell_type": "code",
   "execution_count": 38,
   "metadata": {},
   "outputs": [],
   "source": [
    "yaman_pred=cnn.predict(yaman_test_x)"
   ]
  },
  {
   "cell_type": "code",
   "execution_count": 39,
   "metadata": {},
   "outputs": [
    {
     "data": {
      "text/plain": [
       "array([[3.1845552e-01, 6.7696434e-01, 3.6315494e-03, 2.4778009e-04,\n",
       "        7.0081907e-04],\n",
       "       [2.9671365e-01, 6.9414711e-01, 6.4182929e-03, 7.0545729e-04,\n",
       "        2.0155513e-03],\n",
       "       [2.6364583e-01, 7.0206761e-01, 1.8558683e-02, 4.3941033e-03,\n",
       "        1.1333800e-02],\n",
       "       [2.9653233e-01, 6.7885488e-01, 1.7418891e-02, 2.2496840e-03,\n",
       "        4.9442500e-03],\n",
       "       [3.0031079e-01, 6.9221669e-01, 5.4022265e-03, 5.2654184e-04,\n",
       "        1.5436753e-03]], dtype=float32)"
      ]
     },
     "execution_count": 39,
     "metadata": {},
     "output_type": "execute_result"
    }
   ],
   "source": [
    "yaman_pred"
   ]
  },
  {
   "cell_type": "code",
   "execution_count": null,
   "metadata": {},
   "outputs": [],
   "source": []
  }
 ],
 "metadata": {
  "kernelspec": {
   "display_name": "Python 3",
   "language": "python",
   "name": "python3"
  },
  "language_info": {
   "codemirror_mode": {
    "name": "ipython",
    "version": 3
   },
   "file_extension": ".py",
   "mimetype": "text/x-python",
   "name": "python",
   "nbconvert_exporter": "python",
   "pygments_lexer": "ipython3",
   "version": "3.8.3"
  }
 },
 "nbformat": 4,
 "nbformat_minor": 4
}
